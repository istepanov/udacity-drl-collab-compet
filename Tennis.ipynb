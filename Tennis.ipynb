{
 "cells": [
  {
   "cell_type": "markdown",
   "metadata": {},
   "source": [
    "# Collaboration and Competition\n",
    "\n",
    "---\n",
    "\n",
    "In this notebook, you will learn how to use the Unity ML-Agents environment for the third project of the [Deep Reinforcement Learning Nanodegree](https://www.udacity.com/course/deep-reinforcement-learning-nanodegree--nd893) program.\n",
    "\n",
    "### 1. Start the Environment\n",
    "\n",
    "We begin by importing the necessary packages.  If the code cell below returns an error, please revisit the project instructions to double-check that you have installed [Unity ML-Agents](https://github.com/Unity-Technologies/ml-agents/blob/master/docs/Installation.md) and [NumPy](http://www.numpy.org/)."
   ]
  },
  {
   "cell_type": "code",
   "execution_count": 1,
   "metadata": {},
   "outputs": [],
   "source": [
    "from collections import deque\n",
    "import numpy as np\n",
    "import torch\n",
    "from unityagents import UnityEnvironment\n",
    "import matplotlib.pyplot as plt\n",
    "%matplotlib inline\n",
    "\n",
    "from maddpg_agent import Agent"
   ]
  },
  {
   "cell_type": "markdown",
   "metadata": {},
   "source": [
    "Next, we will start the environment!  **_Before running the code cell below_**, change the `file_name` parameter to match the location of the Unity environment that you downloaded.\n",
    "\n",
    "- **Mac**: `\"path/to/Tennis.app\"`\n",
    "- **Windows** (x86): `\"path/to/Tennis_Windows_x86/Tennis.exe\"`\n",
    "- **Windows** (x86_64): `\"path/to/Tennis_Windows_x86_64/Tennis.exe\"`\n",
    "- **Linux** (x86): `\"path/to/Tennis_Linux/Tennis.x86\"`\n",
    "- **Linux** (x86_64): `\"path/to/Tennis_Linux/Tennis.x86_64\"`\n",
    "- **Linux** (x86, headless): `\"path/to/Tennis_Linux_NoVis/Tennis.x86\"`\n",
    "- **Linux** (x86_64, headless): `\"path/to/Tennis_Linux_NoVis/Tennis.x86_64\"`\n",
    "\n",
    "For instance, if you are using a Mac, then you downloaded `Tennis.app`.  If this file is in the same folder as the notebook, then the line below should appear as follows:\n",
    "```\n",
    "env = UnityEnvironment(file_name=\"Tennis.app\")\n",
    "```"
   ]
  },
  {
   "cell_type": "code",
   "execution_count": 2,
   "metadata": {},
   "outputs": [
    {
     "name": "stderr",
     "output_type": "stream",
     "text": [
      "INFO:unityagents:\n",
      "'Academy' started successfully!\n",
      "Unity Academy name: Academy\n",
      "        Number of Brains: 1\n",
      "        Number of External Brains : 1\n",
      "        Lesson number : 0\n",
      "        Reset Parameters :\n",
      "\t\t\n",
      "Unity brain name: TennisBrain\n",
      "        Number of Visual Observations (per agent): 0\n",
      "        Vector Observation space type: continuous\n",
      "        Vector Observation space size (per agent): 8\n",
      "        Number of stacked Vector Observation: 3\n",
      "        Vector Action space type: continuous\n",
      "        Vector Action space size (per agent): 2\n",
      "        Vector Action descriptions: , \n"
     ]
    }
   ],
   "source": [
    "env = UnityEnvironment(file_name=\"./Tennis_Linux/Tennis.x86_64\")"
   ]
  },
  {
   "cell_type": "markdown",
   "metadata": {},
   "source": [
    "Environments contain **_brains_** which are responsible for deciding the actions of their associated agents. Here we check for the first brain available, and set it as the default brain we will be controlling from Python."
   ]
  },
  {
   "cell_type": "code",
   "execution_count": 3,
   "metadata": {},
   "outputs": [],
   "source": [
    "# get the default brain\n",
    "brain_name = env.brain_names[0]\n",
    "brain = env.brains[brain_name]"
   ]
  },
  {
   "cell_type": "markdown",
   "metadata": {},
   "source": [
    "### 2. Examine the State and Action Spaces\n",
    "\n",
    "In this environment, two agents control rackets to bounce a ball over a net. If an agent hits the ball over the net, it receives a reward of +0.1.  If an agent lets a ball hit the ground or hits the ball out of bounds, it receives a reward of -0.01.  Thus, the goal of each agent is to keep the ball in play.\n",
    "\n",
    "The observation space consists of 8 variables corresponding to the position and velocity of the ball and racket. Two continuous actions are available, corresponding to movement toward (or away from) the net, and jumping. \n",
    "\n",
    "Run the code cell below to print some information about the environment."
   ]
  },
  {
   "cell_type": "code",
   "execution_count": 4,
   "metadata": {},
   "outputs": [
    {
     "name": "stdout",
     "output_type": "stream",
     "text": [
      "Number of agents: 2\n",
      "Size of each action: 2\n",
      "There are 2 agents. Each observes a state with length: 24\n",
      "The state for the first agent looks like: [ 0.          0.          0.          0.          0.          0.\n",
      "  0.          0.          0.          0.          0.          0.\n",
      "  0.          0.          0.          0.         -6.65278625 -1.5\n",
      " -0.          0.          6.83172083  6.         -0.          0.        ]\n"
     ]
    }
   ],
   "source": [
    "# reset the environment\n",
    "env_info = env.reset(train_mode=True)[brain_name]\n",
    "\n",
    "# number of agents \n",
    "num_agents = len(env_info.agents)\n",
    "print('Number of agents:', num_agents)\n",
    "\n",
    "# size of each action\n",
    "action_size = brain.vector_action_space_size\n",
    "print('Size of each action:', action_size)\n",
    "\n",
    "# examine the state space \n",
    "states = env_info.vector_observations\n",
    "state_size = states.shape[1]\n",
    "print('There are {} agents. Each observes a state with length: {}'.format(states.shape[0], state_size))\n",
    "print('The state for the first agent looks like:', states[0])"
   ]
  },
  {
   "cell_type": "markdown",
   "metadata": {},
   "source": [
    "### 3. Take Random Actions in the Environment\n",
    "\n",
    "In the next code cell, you will learn how to use the Python API to control the agents and receive feedback from the environment.\n",
    "\n",
    "Once this cell is executed, you will watch the agents' performance, if they select actions at random with each time step.  A window should pop up that allows you to observe the agents.\n",
    "\n",
    "Of course, as part of the project, you'll have to change the code so that the agents are able to use their experiences to gradually choose better actions when interacting with the environment!"
   ]
  },
  {
   "cell_type": "code",
   "execution_count": 5,
   "metadata": {},
   "outputs": [],
   "source": [
    "# for i in range(1, 6):                                      # play game for 5 episodes\n",
    "#     env_info = env.reset(train_mode=False)[brain_name]     # reset the environment    \n",
    "#     states = env_info.vector_observations                  # get the current state (for each agent)\n",
    "#     scores = np.zeros(num_agents)                          # initialize the score (for each agent)\n",
    "#     while True:\n",
    "#         actions = np.random.randn(num_agents, action_size) # select an action (for each agent)\n",
    "#         actions = np.clip(actions, -1, 1)                  # all actions between -1 and 1\n",
    "#         env_info = env.step(actions)[brain_name]           # send all actions to tne environment\n",
    "#         next_states = env_info.vector_observations         # get next state (for each agent)\n",
    "#         rewards = env_info.rewards                         # get reward (for each agent)\n",
    "#         dones = env_info.local_done                        # see if episode finished\n",
    "#         scores += env_info.rewards                         # update the score (for each agent)\n",
    "#         states = next_states                               # roll over states to next time step\n",
    "#         if np.any(dones):                                  # exit loop if episode finished\n",
    "#             break\n",
    "#     print('Score (max over agents) from episode {}: {}'.format(i, np.max(scores)))"
   ]
  },
  {
   "cell_type": "markdown",
   "metadata": {},
   "source": [
    "When finished, you can close the environment."
   ]
  },
  {
   "cell_type": "markdown",
   "metadata": {},
   "source": [
    "### Initialize agents"
   ]
  },
  {
   "cell_type": "code",
   "execution_count": 6,
   "metadata": {},
   "outputs": [],
   "source": [
    "# initialize agents\n",
    "agent_0 = Agent(state_size, action_size, num_agents=1, random_seed=0)\n",
    "agent_1 = Agent(state_size, action_size, num_agents=1, random_seed=0)"
   ]
  },
  {
   "cell_type": "markdown",
   "metadata": {},
   "source": [
    "### Learning"
   ]
  },
  {
   "cell_type": "code",
   "execution_count": 7,
   "metadata": {},
   "outputs": [
    {
     "name": "stdout",
     "output_type": "stream",
     "text": [
      "Episode 0050\tScore: 0.000\tMoving Average: 0.004\n",
      "Episode 0100\tScore: 0.000\tMoving Average: 0.002\n",
      "Episode 0150\tScore: 0.000\tMoving Average: 0.008\n",
      "Episode 0200\tScore: 0.000\tMoving Average: 0.008\n",
      "Episode 0250\tScore: 0.000\tMoving Average: 0.000\n",
      "Episode 0300\tScore: 0.000\tMoving Average: 0.003\n",
      "Episode 0350\tScore: 0.000\tMoving Average: 0.015\n",
      "Episode 0400\tScore: 0.000\tMoving Average: 0.027\n",
      "Episode 0450\tScore: 0.000\tMoving Average: 0.050\n",
      "Episode 0500\tScore: 0.000\tMoving Average: 0.059\n",
      "Episode 0550\tScore: 0.100\tMoving Average: 0.057\n",
      "Episode 0600\tScore: 0.000\tMoving Average: 0.083\n",
      "Episode 0650\tScore: 0.100\tMoving Average: 0.087\n",
      "Episode 0700\tScore: 0.200\tMoving Average: 0.082\n",
      "Episode 0750\tScore: 0.100\tMoving Average: 0.082\n",
      "Episode 0800\tScore: 0.200\tMoving Average: 0.065\n",
      "Episode 0850\tScore: 0.000\tMoving Average: 0.053\n",
      "Episode 0900\tScore: 0.100\tMoving Average: 0.086\n",
      "Episode 0950\tScore: 0.100\tMoving Average: 0.125\n",
      "Episode 1000\tScore: 0.100\tMoving Average: 0.133\n",
      "Episode 1050\tScore: 0.100\tMoving Average: 0.157\n",
      "Episode 1100\tScore: 0.100\tMoving Average: 0.188\n",
      "Episode 1150\tScore: 0.100\tMoving Average: 0.196\n",
      "Episode 1200\tScore: 0.200\tMoving Average: 0.183\n",
      "Episode 1250\tScore: 0.200\tMoving Average: 0.193\n",
      "Episode 1300\tScore: 0.300\tMoving Average: 0.222\n",
      "Episode 1350\tScore: 0.000\tMoving Average: 0.218\n",
      "Episode 1400\tScore: 0.800\tMoving Average: 0.233\n",
      "Episode 1450\tScore: 0.300\tMoving Average: 0.254\n",
      "Episode 1500\tScore: 0.300\tMoving Average: 0.397\n",
      "Episode 1550\tScore: 0.200\tMoving Average: 0.394\n",
      "Episode 1600\tScore: 0.300\tMoving Average: 0.312\n",
      "Episode 1646\tScore: 5.100\tMoving Average: 0.514<-- Environment solved in 1646 episodes!\n"
     ]
    }
   ],
   "source": [
    "SOLVED_THRESHOLD = 0.5\n",
    "CONSEC_EPISODES = 100\n",
    "PRINT_EVERY = 50\n",
    "\n",
    "def maddpg(max_episodes=5000):\n",
    "    scores_deque = deque(maxlen=CONSEC_EPISODES)\n",
    "    scores_all = []\n",
    "    moving_average = []\n",
    "\n",
    "    for i_episode in range(1, max_episodes+1):\n",
    "        env_info = env.reset(train_mode=True)[brain_name]         # reset the environment\n",
    "        states = np.reshape(env_info.vector_observations, (1, state_size*num_agents)) # get states and combine them\n",
    "        agent_0.reset()\n",
    "        agent_1.reset()\n",
    "        agent_0.perturb_actor_parameters()\n",
    "        agent_1.perturb_actor_parameters()\n",
    "        scores = np.zeros(num_agents)\n",
    "        episode_states = []\n",
    "        episode_actions_agent_0 = []\n",
    "        episode_actions_agent_1 = []\n",
    "        episode_next_states = []\n",
    "        while True:\n",
    "            action_0 = agent_0.act(states, add_action_noise=True, add_param_noise=True)    # agent 0 chooses an action\n",
    "            action_1 = agent_1.act(states, add_action_noise=True, add_param_noise=True)    # agent 1 chooses an action\n",
    "            actions = np.concatenate((action_0, action_1), axis=None)\n",
    "            \n",
    "            env_info = env.step(actions)[brain_name]           # send both agents' actions together to the environment\n",
    "            next_states = np.reshape(env_info.vector_observations, (1, state_size*num_agents)) # combine the agent next states\n",
    "            rewards = env_info.rewards                         # get reward\n",
    "            done = env_info.local_done                         # see if episode finished\n",
    "            agent_0.step(states, actions, rewards[0], next_states, done, agent_index=0) # agent 1 learns\n",
    "            agent_1.step(states, actions, rewards[1], next_states, done, agent_index=1) # agent 2 learns\n",
    "            scores += np.max(rewards)                          # update the score for each agent\n",
    "            \n",
    "            episode_states.append(states)\n",
    "            episode_actions_agent_0.append(action_0)\n",
    "            episode_actions_agent_1.append(action_1)\n",
    "            episode_next_states.append(next_states)\n",
    "            \n",
    "            states = next_states                               # roll over states to next time step\n",
    "            if np.any(done):                                   # exit loop if episode finished\n",
    "                break\n",
    "\n",
    "        episode_best_score = np.max(scores)\n",
    "        scores_deque.append(episode_best_score)\n",
    "        scores_all.append(episode_best_score)\n",
    "        moving_average.append(np.mean(scores_deque))\n",
    "        \n",
    "        episode_states = np.concatenate(episode_states, axis=0)\n",
    "        episode_actions_agent_0 = np.concatenate(episode_actions_agent_0, axis=0)\n",
    "        episode_actions_agent_1 = np.concatenate(episode_actions_agent_1, axis=0)\n",
    "        episode_next_states = np.concatenate(episode_next_states, axis=0)\n",
    "        \n",
    "        agent_0.update_param_noise(episode_states, episode_actions_agent_0, episode_next_states)\n",
    "        agent_1.update_param_noise(episode_states, episode_actions_agent_1, episode_next_states)\n",
    "        \n",
    "        print('\\rEpisode {:0>4d}\\tScore: {:.3f}\\tMoving Average: {:.3f}'.format(\n",
    "                i_episode, np.max(scores_all[-1]), moving_average[-1]), end='')\n",
    "        if i_episode % PRINT_EVERY == 0:\n",
    "            print('\\rEpisode {:0>4d}\\tScore: {:.3f}\\tMoving Average: {:.3f}'.format(\n",
    "                i_episode, np.max(scores_all[-1]), moving_average[-1]))\n",
    "\n",
    "        # determine if environment is solved and keep best performing models\n",
    "        if moving_average[-1] >= SOLVED_THRESHOLD:\n",
    "            print('<-- Environment solved in {:d} episodes!'.format(i_episode))\n",
    "            break\n",
    "            \n",
    "    torch.save(agent_0.actor_local.state_dict(), 'checkpoint_actor_0.pth')\n",
    "    torch.save(agent_0.critic_local.state_dict(), 'checkpoint_critic_0.pth')\n",
    "    torch.save(agent_1.actor_local.state_dict(), 'checkpoint_actor_1.pth')\n",
    "    torch.save(agent_1.critic_local.state_dict(), 'checkpoint_critic_1.pth')\n",
    "            \n",
    "    return scores_all, moving_average\n",
    "\n",
    "scores, averages = maddpg()"
   ]
  },
  {
   "cell_type": "code",
   "execution_count": 8,
   "metadata": {},
   "outputs": [
    {
     "data": {
      "image/png": "[encoded data removed]",
      "text/plain": [
       "<Figure size 432x288 with 1 Axes>"
      ]
     },
     "metadata": {
      "needs_background": "light"
     },
     "output_type": "display_data"
    }
   ],
   "source": [
    "fig = plt.figure()\n",
    "ax = fig.add_subplot(111)\n",
    "plt.plot(np.arange(len(scores)), scores, label='MADDPG')\n",
    "plt.plot(np.arange(len(scores)), averages, c='r', label='moving average')\n",
    "plt.ylabel('Score')\n",
    "plt.xlabel('Episode #')\n",
    "plt.legend(loc='upper left');\n",
    "plt.show()"
   ]
  },
  {
   "cell_type": "markdown",
   "metadata": {},
   "source": [
    "### Smart Agent"
   ]
  },
  {
   "cell_type": "code",
   "execution_count": 9,
   "metadata": {},
   "outputs": [
    {
     "name": "stdout",
     "output_type": "stream",
     "text": [
      "Total score: [0.50000001 0.59000001]\n"
     ]
    }
   ],
   "source": [
    "agent_0.actor_local.load_state_dict(torch.load('checkpoint_actor_0.pth'))\n",
    "agent_0.critic_local.load_state_dict(torch.load('checkpoint_critic_0.pth'))\n",
    "agent_1.actor_local.load_state_dict(torch.load('checkpoint_actor_1.pth'))\n",
    "agent_1.critic_local.load_state_dict(torch.load('checkpoint_critic_1.pth'))\n",
    "\n",
    "env_info = env.reset(train_mode=False)[brain_name]\n",
    "states = np.reshape(env_info.vector_observations, (1, state_size*num_agents))\n",
    "scores = np.zeros(num_agents)\n",
    "\n",
    "while True:\n",
    "    action_0 = agent_0.act(states)    # agent 0 chooses an action\n",
    "    action_1 = agent_1.act(states)    # agent 1 chooses an action\n",
    "    actions = np.concatenate((action_0, action_1), axis=None)\n",
    "    env_info = env.step(actions)[brain_name]           # send both agents' actions together to the environment\n",
    "    next_states = np.reshape(env_info.vector_observations, (1, 48)) # combine the agent next states\n",
    "    rewards = env_info.rewards                         # get reward\n",
    "    done = env_info.local_done                         # see if episode finished\n",
    "    scores += rewards                                  # update the score for each agent\n",
    "    states = next_states                               # roll over states to next time step\n",
    "    if np.any(done):                                   # exit loop if episode finished\n",
    "        break\n",
    "\n",
    "print('Total score: {}'.format(scores))\n"
   ]
  },
  {
   "cell_type": "code",
   "execution_count": 10,
   "metadata": {},
   "outputs": [],
   "source": [
    "env.close()"
   ]
  },
  {
   "cell_type": "markdown",
   "metadata": {},
   "source": [
    "### 4. It's Your Turn!\n",
    "\n",
    "Now it's your turn to train your own agent to solve the environment!  When training the environment, set `train_mode=True`, so that the line for resetting the environment looks like the following:\n",
    "```python\n",
    "env_info = env.reset(train_mode=True)[brain_name]\n",
    "```"
   ]
  }
 ],
 "metadata": {
  "kernelspec": {
   "display_name": "Python 3",
   "language": "python",
   "name": "python3"
  },
  "language_info": {
   "codemirror_mode": {
    "name": "ipython",
    "version": 3
   },
   "file_extension": ".py",
   "mimetype": "text/x-python",
   "name": "python",
   "nbconvert_exporter": "python",
   "pygments_lexer": "ipython3",
   "version": "3.6.7"
  }
 },
 "nbformat": 4,
 "nbformat_minor": 2
}
